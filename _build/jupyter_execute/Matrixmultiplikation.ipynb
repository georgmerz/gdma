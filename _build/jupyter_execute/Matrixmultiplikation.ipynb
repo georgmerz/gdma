{
 "cells": [
  {
   "cell_type": "markdown",
   "metadata": {
    "id": "9olZPtPTVFzB"
   },
   "source": [
    "# Matrixmultiplikation\n",
    "\n",
    "In diesem Google Colab Notebook werden wir uns vor allen Dingen mit der Matrixmultiplikation beschäftigen. Wir werden die Matrixmultiplikation von Hand mittels Schleifen nachimplementieren.\n"
   ]
  },
  {
   "cell_type": "markdown",
   "metadata": {
    "id": "JlMoxNVnVJ5J"
   },
   "source": [
    "## 1. Vektoren und Matrizen in Numpy\n",
    "\n",
    "\n",
    "\n"
   ]
  },
  {
   "cell_type": "markdown",
   "metadata": {
    "id": "OcbX4RT1VP9Z"
   },
   "source": [
    "- Numpy ist das wichtigste Werkzeug in Python wenn es um Matrizen und Vektoren geht.\n",
    "\n",
    "- Numpy ist nicht das schnellste Paket um in Python mit Vektoren zu rechnen es ist aber das Intuitivste\n",
    "\n",
    "- **Ziel** in diesem Kurs ist es alle Algorithmen und Berechnungen nur mit den einfachsten Numpy Werkzeugen durchzuführen\n"
   ]
  },
  {
   "cell_type": "markdown",
   "metadata": {
    "id": "nV5HXw6lVevJ"
   },
   "source": [
    "### 1. Schritt (numpy importieren)\n",
    "\n",
    "Zunächst müssen wir numpy importieren und es mit einem kürzel versehen. In der regel verwendet man dafür np."
   ]
  },
  {
   "cell_type": "code",
   "execution_count": 1,
   "metadata": {
    "executionInfo": {
     "elapsed": 5,
     "status": "ok",
     "timestamp": 1676636790395,
     "user": {
      "displayName": "georgmerz@yahoo.de",
      "userId": "06441957687955120026"
     },
     "user_tz": -60
    },
    "id": "DZhn4nlpU5Ao"
   },
   "outputs": [],
   "source": [
    "import numpy as np"
   ]
  },
  {
   "cell_type": "markdown",
   "metadata": {
    "id": "On3WO9sNV2uE"
   },
   "source": [
    "### 2. Schritt(Vektoren und Matrizen definieren)\n",
    "\n",
    "Sagen wir zum Beispiel wir wollen folgende Vektoren und Matrizen in Numpy definieren: \n",
    "\n",
    "$\\vec{w}=\\begin{pmatrix} 1 & 2 & 3 \\end{pmatrix}\\in \\mathbb{R}^{1\\times3 },\\quad \\vec{v}=\\begin{pmatrix} 2 \\\\ 0 \\\\ 1 \\end{pmatrix}\\in \\mathbb{R}^{3\\times 1} \\quad \n",
    "A=\\begin{pmatrix} 1&1&0 \\\\ 0&1&1 \\\\ 1&0&1 \\end{pmatrix}\\in \\mathbb{R}^{3\\times 3}$\n"
   ]
  },
  {
   "cell_type": "code",
   "execution_count": 2,
   "metadata": {
    "colab": {
     "base_uri": "https://localhost:8080/"
    },
    "executionInfo": {
     "elapsed": 6,
     "status": "ok",
     "timestamp": 1676637264028,
     "user": {
      "displayName": "georgmerz@yahoo.de",
      "userId": "06441957687955120026"
     },
     "user_tz": -60
    },
    "id": "NNzSFC4uWBkZ",
    "outputId": "aec8ae0a-f61e-4e58-c1c8-d2d127cfc78e"
   },
   "outputs": [
    {
     "data": {
      "text/plain": [
       "array([1, 2, 3])"
      ]
     },
     "execution_count": 2,
     "metadata": {},
     "output_type": "execute_result"
    }
   ],
   "source": [
    "w=np.array([1,2,3])\n",
    "w"
   ]
  },
  {
   "cell_type": "code",
   "execution_count": 3,
   "metadata": {
    "colab": {
     "base_uri": "https://localhost:8080/"
    },
    "executionInfo": {
     "elapsed": 5,
     "status": "ok",
     "timestamp": 1676637264028,
     "user": {
      "displayName": "georgmerz@yahoo.de",
      "userId": "06441957687955120026"
     },
     "user_tz": -60
    },
    "id": "jsuiAAOkWDJh",
    "outputId": "49f186d2-92d2-49b8-a6bb-55a7ed05d0d8"
   },
   "outputs": [
    {
     "data": {
      "text/plain": [
       "array([[2],\n",
       "       [0],\n",
       "       [1]])"
      ]
     },
     "execution_count": 3,
     "metadata": {},
     "output_type": "execute_result"
    }
   ],
   "source": [
    "v=np.array([[2],[0],[1]])\n",
    "v"
   ]
  },
  {
   "cell_type": "code",
   "execution_count": 4,
   "metadata": {
    "colab": {
     "base_uri": "https://localhost:8080/"
    },
    "executionInfo": {
     "elapsed": 3,
     "status": "ok",
     "timestamp": 1676637264028,
     "user": {
      "displayName": "georgmerz@yahoo.de",
      "userId": "06441957687955120026"
     },
     "user_tz": -60
    },
    "id": "FevnoYacWIFD",
    "outputId": "23699366-2788-4e84-fdbe-2b4211acf175"
   },
   "outputs": [
    {
     "data": {
      "text/plain": [
       "array([[1, 1, 0],\n",
       "       [0, 1, 1],\n",
       "       [1, 0, 1]])"
      ]
     },
     "execution_count": 4,
     "metadata": {},
     "output_type": "execute_result"
    }
   ],
   "source": [
    "A=np.array([[1,1,0],[0,1,1],[1,0,1]])\n",
    "A"
   ]
  },
  {
   "cell_type": "markdown",
   "metadata": {
    "id": "ueAsWGqMWJ8R"
   },
   "source": [
    "Falls wir nicht mehr sicher sind welche Dimension unsere Matrix bzw. unser Vektor hat. Können wir dies mittels `np.shape(A)` abfragen:"
   ]
  },
  {
   "cell_type": "code",
   "execution_count": 5,
   "metadata": {
    "colab": {
     "base_uri": "https://localhost:8080/"
    },
    "executionInfo": {
     "elapsed": 2,
     "status": "ok",
     "timestamp": 1676637264293,
     "user": {
      "displayName": "georgmerz@yahoo.de",
      "userId": "06441957687955120026"
     },
     "user_tz": -60
    },
    "id": "Emi8pwOaWM1J",
    "outputId": "a82deae9-2f2c-4974-bbfd-16fb4e53ff3e"
   },
   "outputs": [
    {
     "data": {
      "text/plain": [
       "(3, 3)"
      ]
     },
     "execution_count": 5,
     "metadata": {},
     "output_type": "execute_result"
    }
   ],
   "source": [
    "np.shape(A)"
   ]
  },
  {
   "cell_type": "markdown",
   "metadata": {
    "id": "xYPejNOXWVLO"
   },
   "source": [
    "### 3. Schritt"
   ]
  },
  {
   "cell_type": "code",
   "execution_count": 6,
   "metadata": {
    "executionInfo": {
     "elapsed": 2,
     "status": "ok",
     "timestamp": 1676637264686,
     "user": {
      "displayName": "georgmerz@yahoo.de",
      "userId": "06441957687955120026"
     },
     "user_tz": -60
    },
    "id": "V5D7GBA2WSow"
   },
   "outputs": [],
   "source": [
    "### 3. Schritt"
   ]
  },
  {
   "cell_type": "markdown",
   "metadata": {
    "id": "_tBRPEMjWZM6"
   },
   "source": [
    "Wollen wir nun beispielsweise $a_{12}$ von $A$ bestimmen. Also den zweiten Eintrag der ersten Zeile so können wir dies mittels Eckigen klammern machen.\n",
    "\n",
    "**Achtung**: Python beginnt bei **0** zu zählen. In der Mathematik wird für indizes häufig mit 1 gestartet. D.h. $a_{12}$ entsprich dann `A[0,1]`"
   ]
  },
  {
   "cell_type": "code",
   "execution_count": 7,
   "metadata": {
    "colab": {
     "base_uri": "https://localhost:8080/"
    },
    "executionInfo": {
     "elapsed": 5,
     "status": "ok",
     "timestamp": 1676637265332,
     "user": {
      "displayName": "georgmerz@yahoo.de",
      "userId": "06441957687955120026"
     },
     "user_tz": -60
    },
    "id": "E95coskjWcQB",
    "outputId": "aad69eb5-d08a-483a-ea14-fcf07c5ed0e6"
   },
   "outputs": [
    {
     "data": {
      "text/plain": [
       "1"
      ]
     },
     "execution_count": 7,
     "metadata": {},
     "output_type": "execute_result"
    }
   ],
   "source": [
    "A[0,1]"
   ]
  },
  {
   "cell_type": "code",
   "execution_count": 8,
   "metadata": {
    "colab": {
     "base_uri": "https://localhost:8080/"
    },
    "executionInfo": {
     "elapsed": 5,
     "status": "ok",
     "timestamp": 1676637265333,
     "user": {
      "displayName": "georgmerz@yahoo.de",
      "userId": "06441957687955120026"
     },
     "user_tz": -60
    },
    "id": "Qx1hNw4vWeLl",
    "outputId": "56738802-b51c-4463-8b62-c579a17c25ef"
   },
   "outputs": [
    {
     "data": {
      "text/plain": [
       "1"
      ]
     },
     "execution_count": 8,
     "metadata": {},
     "output_type": "execute_result"
    }
   ],
   "source": [
    "w[0]"
   ]
  },
  {
   "cell_type": "markdown",
   "metadata": {
    "id": "f_tr_VqeWg8z"
   },
   "source": [
    "Bei Spaltenvektoren müssen wir um eine Zahl zu bekommen noch den zweiten Index mitnehmen. D.h. wenn wir  𝑣3\n",
    "v\n",
    "3\n",
    "  bekommen wollen müssen wir folgendes schreiben:"
   ]
  },
  {
   "cell_type": "code",
   "execution_count": 9,
   "metadata": {
    "colab": {
     "base_uri": "https://localhost:8080/"
    },
    "executionInfo": {
     "elapsed": 4,
     "status": "ok",
     "timestamp": 1676637265984,
     "user": {
      "displayName": "georgmerz@yahoo.de",
      "userId": "06441957687955120026"
     },
     "user_tz": -60
    },
    "id": "aTtmOMipWgQT",
    "outputId": "7eba08c3-0e8f-4e39-b45d-4bdb5d5ec79e"
   },
   "outputs": [
    {
     "data": {
      "text/plain": [
       "1"
      ]
     },
     "execution_count": 9,
     "metadata": {},
     "output_type": "execute_result"
    }
   ],
   "source": [
    "v[2,0]"
   ]
  },
  {
   "cell_type": "markdown",
   "metadata": {
    "id": "S6cHnjqvWleU"
   },
   "source": [
    "# 2 Grundrechenarten in Numpy"
   ]
  },
  {
   "cell_type": "markdown",
   "metadata": {
    "id": "yEpTgvHRWrzI"
   },
   "source": [
    "### Addition\n",
    "\n",
    "Matrizen und Vektoren können sehr einfach addiert und subtrahiert werden. Dafür können wir einfach die gewöhnliche `+`und `-` verwenden."
   ]
  },
  {
   "cell_type": "code",
   "execution_count": 10,
   "metadata": {
    "colab": {
     "base_uri": "https://localhost:8080/"
    },
    "executionInfo": {
     "elapsed": 2,
     "status": "ok",
     "timestamp": 1676637266234,
     "user": {
      "displayName": "georgmerz@yahoo.de",
      "userId": "06441957687955120026"
     },
     "user_tz": -60
    },
    "id": "HKtzvUsYWxDB",
    "outputId": "c07ba17c-d811-42b2-cf05-4b6ff80e76c3"
   },
   "outputs": [
    {
     "data": {
      "text/plain": [
       "array([[2, 2, 0],\n",
       "       [0, 2, 2],\n",
       "       [2, 0, 2]])"
      ]
     },
     "execution_count": 10,
     "metadata": {},
     "output_type": "execute_result"
    }
   ],
   "source": [
    "A+A"
   ]
  },
  {
   "cell_type": "code",
   "execution_count": 11,
   "metadata": {
    "colab": {
     "base_uri": "https://localhost:8080/"
    },
    "executionInfo": {
     "elapsed": 4,
     "status": "ok",
     "timestamp": 1676637223510,
     "user": {
      "displayName": "georgmerz@yahoo.de",
      "userId": "06441957687955120026"
     },
     "user_tz": -60
    },
    "id": "SH44fqqxWyxn",
    "outputId": "02ff92ad-d398-4040-a5c3-6fd1b53b9e2d"
   },
   "outputs": [
    {
     "data": {
      "text/plain": [
       "array([[4],\n",
       "       [0],\n",
       "       [2]])"
      ]
     },
     "execution_count": 11,
     "metadata": {},
     "output_type": "execute_result"
    }
   ],
   "source": [
    "v+v"
   ]
  },
  {
   "cell_type": "markdown",
   "metadata": {
    "id": "bIQcaUBcW7fV"
   },
   "source": [
    "**Achtung**\n",
    "\n",
    "Wenn Sie zwei Vektoren/Matrizen mit unterschiedlichen Dimensionen addieren kommt keine Fehlermeldung."
   ]
  },
  {
   "cell_type": "code",
   "execution_count": 12,
   "metadata": {
    "colab": {
     "base_uri": "https://localhost:8080/"
    },
    "executionInfo": {
     "elapsed": 3,
     "status": "ok",
     "timestamp": 1676637224986,
     "user": {
      "displayName": "georgmerz@yahoo.de",
      "userId": "06441957687955120026"
     },
     "user_tz": -60
    },
    "id": "3LO3nQgzW1uP",
    "outputId": "eb162975-077a-4b71-e100-59ea97404d19"
   },
   "outputs": [
    {
     "data": {
      "text/plain": [
       "array([[3, 3, 2],\n",
       "       [0, 1, 1],\n",
       "       [2, 1, 2]])"
      ]
     },
     "execution_count": 12,
     "metadata": {},
     "output_type": "execute_result"
    }
   ],
   "source": [
    "A+v"
   ]
  },
  {
   "cell_type": "code",
   "execution_count": 13,
   "metadata": {
    "colab": {
     "base_uri": "https://localhost:8080/"
    },
    "executionInfo": {
     "elapsed": 8,
     "status": "ok",
     "timestamp": 1676637233940,
     "user": {
      "displayName": "georgmerz@yahoo.de",
      "userId": "06441957687955120026"
     },
     "user_tz": -60
    },
    "id": "m_ZQ_lNYXElv",
    "outputId": "a2ac3d67-131f-4c82-8e63-7628bd285965"
   },
   "outputs": [
    {
     "data": {
      "text/plain": [
       "array([[3, 4, 5],\n",
       "       [1, 2, 3],\n",
       "       [2, 3, 4]])"
      ]
     },
     "execution_count": 13,
     "metadata": {},
     "output_type": "execute_result"
    }
   ],
   "source": [
    "v+w"
   ]
  },
  {
   "cell_type": "markdown",
   "metadata": {
    "id": "q9miJ6yqXnr5"
   },
   "source": [
    "Konnten Sie eine Logik festellen? Gar nicht so einfach oder?"
   ]
  },
  {
   "cell_type": "markdown",
   "metadata": {
    "id": "DN0Tmm75WTWp"
   },
   "source": [
    "### Multiplikation von Matrizen\n",
    "\n",
    "In diesem Abschnitt wollen wir die Matrixmultiplikation so wie wir sie im Kurs gelernt haben implementieren auf der Ebene der Matrix Elemente.\n",
    "\n"
   ]
  },
  {
   "cell_type": "markdown",
   "metadata": {
    "id": "hHg3vqN9g_FD"
   },
   "source": [
    "#### Matrix mal Vektor\n",
    "\n",
    "Sei $A=\\begin{pmatrix} a_{11}&\\dots &a_{1k} \\\\ \\vdots &\\ddots&\\vdots \\\\ a_{n1}&\\dots & a_{nk} \\end{pmatrix}\\in \\mathbb{R}^{n\\times k}$ sowie $v=\\begin{pmatrix}v_1 \\\\ \\vdots \\\\ v_k \\end{pmatrix}$.\n",
    "Sei weiterhin $w=\\begin{pmatrix}w_1 \\\\ \\vdots \\\\ w_n \\end{pmatrix}\\in \\mathbb{R}^n$\n",
    "\n",
    "Dann gilt folgende Formel für die Elemente von $C$.\n",
    "\n",
    "$w_i=\\sum_{j=1,\\dots n}a_{ij}v_j$."
   ]
  },
  {
   "cell_type": "markdown",
   "metadata": {
    "id": "934ODUAebyXE"
   },
   "source": [
    "Schauen wir nun wie wir das in Numpy umsetzen können.\n",
    "\n",
    "1. Versuch Wir multiplizieren mit `*`"
   ]
  },
  {
   "cell_type": "code",
   "execution_count": 14,
   "metadata": {
    "colab": {
     "base_uri": "https://localhost:8080/"
    },
    "executionInfo": {
     "elapsed": 243,
     "status": "ok",
     "timestamp": 1676638413403,
     "user": {
      "displayName": "georgmerz@yahoo.de",
      "userId": "06441957687955120026"
     },
     "user_tz": -60
    },
    "id": "n_-xO-U7b8Al",
    "outputId": "b60a0587-ffd4-4e9c-d762-3d9381aee982"
   },
   "outputs": [
    {
     "data": {
      "text/plain": [
       "array([[2, 2, 0],\n",
       "       [0, 0, 0],\n",
       "       [1, 0, 1]])"
      ]
     },
     "execution_count": 14,
     "metadata": {},
     "output_type": "execute_result"
    }
   ],
   "source": [
    "A*v"
   ]
  },
  {
   "cell_type": "code",
   "execution_count": 15,
   "metadata": {
    "colab": {
     "base_uri": "https://localhost:8080/"
    },
    "executionInfo": {
     "elapsed": 5,
     "status": "ok",
     "timestamp": 1676638939905,
     "user": {
      "displayName": "georgmerz@yahoo.de",
      "userId": "06441957687955120026"
     },
     "user_tz": -60
    },
    "id": "QTk3aV-ad7-c",
    "outputId": "5a5e0742-4f3d-40bc-fe3b-b2bdc1506050"
   },
   "outputs": [
    {
     "data": {
      "text/plain": [
       "(3, 1)"
      ]
     },
     "execution_count": 15,
     "metadata": {},
     "output_type": "execute_result"
    }
   ],
   "source": [
    "v.shape"
   ]
  },
  {
   "cell_type": "markdown",
   "metadata": {
    "id": "MQjnwqUZcDjc"
   },
   "source": [
    "Ist das Richtig also gilt:\n",
    "\n",
    "\n",
    "\n",
    "$\\begin{pmatrix} 1&1&0 \\\\ 0&1&1 \\\\ 1&0&1 \\end{pmatrix}\\begin{pmatrix} 2 \\\\ 0 \\\\ 1 \\end{pmatrix}=\\begin{pmatrix} 2&2&0 \\\\ 0&0&0 \\\\ 1&0&1\\end{pmatrix} $"
   ]
  },
  {
   "cell_type": "markdown",
   "metadata": {
    "id": "l82ZsE5KcpbK"
   },
   "source": [
    "**Antwort:** NEIN. Stimmt schon von den dimensionen natürlich nicht!\n",
    "\n"
   ]
  },
  {
   "cell_type": "markdown",
   "metadata": {
    "id": "elD_wrChc7mS"
   },
   "source": [
    "Ok. Dann berechnen wir das eben Selbst mithilfe einer einfachen Schleife."
   ]
  },
  {
   "cell_type": "code",
   "execution_count": 16,
   "metadata": {
    "executionInfo": {
     "elapsed": 9,
     "status": "ok",
     "timestamp": 1676640498070,
     "user": {
      "displayName": "georgmerz@yahoo.de",
      "userId": "06441957687955120026"
     },
     "user_tz": -60
    },
    "id": "VNRC8y09dBHb"
   },
   "outputs": [],
   "source": [
    "def matrix_times_Vector(A,v):\n",
    "  n,k=A.shape\n",
    "  \n",
    "  w=np.zeros((n,1))   # initialisiere das Ergebnis mit einem 0 Vektor der Dimension n,1 \n",
    "  for i in range(k):      \n",
    "    for j in range(n):\n",
    "      w[i]+= A[i,j]*v[j,0]\n",
    "  return w"
   ]
  },
  {
   "cell_type": "code",
   "execution_count": 17,
   "metadata": {
    "colab": {
     "base_uri": "https://localhost:8080/"
    },
    "executionInfo": {
     "elapsed": 7,
     "status": "ok",
     "timestamp": 1676640498071,
     "user": {
      "displayName": "georgmerz@yahoo.de",
      "userId": "06441957687955120026"
     },
     "user_tz": -60
    },
    "id": "67DrXBCVcC2R",
    "outputId": "574ac0ae-7678-4f64-e6be-978339880096"
   },
   "outputs": [
    {
     "data": {
      "text/plain": [
       "array([[3.],\n",
       "       [4.],\n",
       "       [5.]])"
      ]
     },
     "execution_count": 17,
     "metadata": {},
     "output_type": "execute_result"
    }
   ],
   "source": [
    "matrix_times_Vector(A,matrix_times_Vector(A,v))"
   ]
  },
  {
   "cell_type": "markdown",
   "metadata": {
    "id": "sgIdmCgff_dG"
   },
   "source": [
    "**Aufgaben**\n",
    "\n",
    "\n",
    "*   Bestimmen Sie mit Hilfe der Obigen Funktion den Vektor $a=A\\cdot A \\cdot v$\n",
    "*   Bestimmen Sie mit Hilfe der obigen Funktion den Vektor $b=A\\cdot w^T$. *Hinweis: Sie können für $w^T$ die Funktion `np.atleast_2d(w).T` benutzen* \n",
    "\n"
   ]
  },
  {
   "cell_type": "code",
   "execution_count": 18,
   "metadata": {
    "colab": {
     "base_uri": "https://localhost:8080/",
     "height": 130
    },
    "executionInfo": {
     "elapsed": 6,
     "status": "error",
     "timestamp": 1676639666866,
     "user": {
      "displayName": "georgmerz@yahoo.de",
      "userId": "06441957687955120026"
     },
     "user_tz": -60
    },
    "id": "-nfZYVbOfNZm",
    "outputId": "545c5c2a-fcab-4381-f99e-ddb76420eebe"
   },
   "outputs": [
    {
     "ename": "SyntaxError",
     "evalue": "invalid syntax (<ipython-input-18-e51945b2e885>, line 1)",
     "output_type": "error",
     "traceback": [
      "\u001b[0;36m  File \u001b[0;32m\"<ipython-input-18-e51945b2e885>\"\u001b[0;36m, line \u001b[0;32m1\u001b[0m\n\u001b[0;31m    a = # Insert Text here\u001b[0m\n\u001b[0m        ^\u001b[0m\n\u001b[0;31mSyntaxError\u001b[0m\u001b[0;31m:\u001b[0m invalid syntax\n"
     ]
    }
   ],
   "source": [
    "a = # Insert Text here\n",
    "\n",
    "b = # Insert Text here"
   ]
  },
  {
   "cell_type": "markdown",
   "metadata": {
    "id": "SwQqI-DWibYZ"
   },
   "source": [
    "#### Matrix mal Matrix"
   ]
  },
  {
   "cell_type": "markdown",
   "metadata": {
    "id": "UrjYl6dufOmP"
   },
   "source": [
    "Sei $A=\\begin{pmatrix} a_{11}&\\dots &a_{1k} \\\\ \\vdots &\\ddots&\\vdots \\\\ a_{n1}&\\dots & a_{nk} \\end{pmatrix}\\in \\mathbb{R}^{n\\times k}$ sowie $B=\\begin{pmatrix} b_{11}&\\dots &b_{1m} \\\\ \\vdots &\\ddots&\\vdots \\\\ b_{k1}&\\dots & b_{km} \\end{pmatrix}\\in \\mathbb{R}^{k\\times m}$.\n",
    "Sei weiterhin $C=\\begin{pmatrix} c_{11}&\\dots &c_{1m} \\\\ \\vdots &\\ddots&\\vdots \\\\ c_{n1}&\\dots & c_{nm} \\end{pmatrix}\\in \\mathbb{R}^{n\\times m}$.\n",
    "\n",
    "Dann gilt folgende Formel für die Elemente von $C$.\n",
    "\n",
    "$c_{ij}=\\sum_{s=1,\\dots k}a_{is}b_{sj}$."
   ]
  },
  {
   "cell_type": "markdown",
   "metadata": {
    "id": "oAnIOx9XkNkV"
   },
   "source": [
    "Auch hier gucken wir uns wieder an wenn wir nun z.B. $A^2$ bestimmen mit `A*A"
   ]
  },
  {
   "cell_type": "code",
   "execution_count": 61,
   "metadata": {
    "colab": {
     "base_uri": "https://localhost:8080/"
    },
    "executionInfo": {
     "elapsed": 8,
     "status": "ok",
     "timestamp": 1676640618929,
     "user": {
      "displayName": "georgmerz@yahoo.de",
      "userId": "06441957687955120026"
     },
     "user_tz": -60
    },
    "id": "W8U1B6zKkXVo",
    "outputId": "1abf822b-7527-408c-91ec-b0a5fb2387f0"
   },
   "outputs": [
    {
     "data": {
      "text/plain": [
       "array([[1, 1, 0],\n",
       "       [0, 1, 1],\n",
       "       [1, 0, 1]])"
      ]
     },
     "execution_count": 61,
     "metadata": {},
     "output_type": "execute_result"
    }
   ],
   "source": [
    "A*A"
   ]
  },
  {
   "cell_type": "markdown",
   "metadata": {
    "id": "mU_MP5RLkbuG"
   },
   "source": [
    "Stimmt das? Ist $\\begin{pmatrix} 1&1&0 \\\\ 0&1&1 \\\\ 1&0&1 \\end{pmatrix}  \\begin{pmatrix} 1&1&0 \\\\ 0&1&1 \\\\ 1&0&1 \\end{pmatrix}=\\begin{pmatrix} 1&1&0 \\\\ 0&1&1 \\\\ 1&0&1 \\end{pmatrix}$?"
   ]
  },
  {
   "cell_type": "markdown",
   "metadata": {
    "id": "MEXIVkVSkv2z"
   },
   "source": [
    "**Antwort:** Nein!"
   ]
  },
  {
   "cell_type": "code",
   "execution_count": 77,
   "metadata": {
    "executionInfo": {
     "elapsed": 3,
     "status": "ok",
     "timestamp": 1676641393476,
     "user": {
      "displayName": "georgmerz@yahoo.de",
      "userId": "06441957687955120026"
     },
     "user_tz": -60
    },
    "id": "nAppodCak31-"
   },
   "outputs": [],
   "source": [
    "def matrix_times_matrix(A,B):\n",
    "  n,k=A.shape\n",
    "  k,m=B.shape\n",
    "  C=np.zeros((n,m))\n",
    "\n",
    "  for i in range(n):\n",
    "    for j in range(m):\n",
    "      for s in range(k):\n",
    "        C[i,j]+=A[i,s]*B[s,j]\n",
    "\n",
    "\n",
    "  return C\n",
    "\n",
    "\n"
   ]
  },
  {
   "cell_type": "code",
   "execution_count": 81,
   "metadata": {
    "colab": {
     "base_uri": "https://localhost:8080/"
    },
    "executionInfo": {
     "elapsed": 6,
     "status": "ok",
     "timestamp": 1676641440857,
     "user": {
      "displayName": "georgmerz@yahoo.de",
      "userId": "06441957687955120026"
     },
     "user_tz": -60
    },
    "id": "vPCkRQKTlDgp",
    "outputId": "0e1fba20-36ca-46d0-838f-8fa2d8b37ccb"
   },
   "outputs": [
    {
     "name": "stdout",
     "output_type": "stream",
     "text": [
      "1\n",
      "3\n",
      "3\n"
     ]
    },
    {
     "data": {
      "text/plain": [
       "array([[3., 2., 1.]])"
      ]
     },
     "execution_count": 81,
     "metadata": {},
     "output_type": "execute_result"
    }
   ],
   "source": [
    "matrix_times_matrix(np.atleast_2d(v).T,A)"
   ]
  },
  {
   "cell_type": "markdown",
   "metadata": {
    "id": "wWWEn4J9nqoN"
   },
   "source": [
    "**Aufgaben**\n",
    "\n",
    " - Bestimmen Sie nochmals $A\\cdot A \\cdot v$ mithilfe der neuen Funktion `matrix_times_matrix(A,B)`\n",
    " - Bestimmen Sie nochmals $v^T\\cdot A$ mithilfe der neuen Funktion."
   ]
  },
  {
   "cell_type": "markdown",
   "metadata": {
    "id": "8AhdurfAl5xJ"
   },
   "source": []
  },
  {
   "cell_type": "code",
   "execution_count": 76,
   "metadata": {
    "colab": {
     "base_uri": "https://localhost:8080/"
    },
    "executionInfo": {
     "elapsed": 8,
     "status": "ok",
     "timestamp": 1676641366500,
     "user": {
      "displayName": "georgmerz@yahoo.de",
      "userId": "06441957687955120026"
     },
     "user_tz": -60
    },
    "id": "6KF_I5ekl6IU",
    "outputId": "5971bb8d-cb44-48e4-dd37-f829a2c26b4e"
   },
   "outputs": [
    {
     "data": {
      "text/plain": [
       "(3, 1)"
      ]
     },
     "execution_count": 76,
     "metadata": {},
     "output_type": "execute_result"
    }
   ],
   "source": []
  },
  {
   "cell_type": "markdown",
   "metadata": {
    "id": "TDBU1Jl-U513"
   },
   "source": [
    "[Linktext](https://)"
   ]
  },
  {
   "cell_type": "markdown",
   "metadata": {
    "id": "1mPZm5i1Vc8u"
   },
   "source": []
  }
 ],
 "metadata": {
  "colab": {
   "authorship_tag": "ABX9TyPkR0RyuInlkpXCsAiGE9/t",
   "collapsed_sections": [
    "S6cHnjqvWleU",
    "yEpTgvHRWrzI"
   ],
   "provenance": []
  },
  "kernelspec": {
   "display_name": "Python 3",
   "name": "python3"
  },
  "language_info": {
   "codemirror_mode": {
    "name": "ipython",
    "version": 3
   },
   "file_extension": ".py",
   "mimetype": "text/x-python",
   "name": "python",
   "nbconvert_exporter": "python",
   "pygments_lexer": "ipython3",
   "version": "3.8.5"
  }
 },
 "nbformat": 4,
 "nbformat_minor": 0
}